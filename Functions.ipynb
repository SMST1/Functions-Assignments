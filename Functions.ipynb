{
  "nbformat": 4,
  "nbformat_minor": 0,
  "metadata": {
    "colab": {
      "provenance": []
    },
    "kernelspec": {
      "name": "python3",
      "display_name": "Python 3"
    },
    "language_info": {
      "name": "python"
    }
  },
  "cells": [
    {
      "cell_type": "markdown",
      "source": [
        "1. What is the difference between a function and a method in Python?\n",
        "     \n",
        "  - A function is a block of code that is defined using the def keyword, and it can be called independently. It is not associated with any object or class.\n",
        "\n",
        "\n",
        "                      def greet(name):\n",
        "                       return f\"Hello, {name}!\"\n",
        "\n",
        "  A method is a function that is associated with an object or a class. It is typically defined within a class. Methods operate on instance of the class, and they often manipulate the instance's attributes.\n",
        "        \n",
        "        class Greeter:\n",
        "             def greet(self, name):\n",
        "                return f\"Hello, {name}!\"\n",
        "\n",
        "     greeter = Greeter()\n",
        "     print(greeter.greet(\"Alice\"))  # Method call on an object\n",
        "\n",
        "2.Explain the concept of function arguments and parameters in Python.\n",
        "-  function arguments and parameters refer to the values that are passed into a function and the names used to refer to those values inside the function, respectively.\n",
        "  \n",
        "  Function Arguments: Arguments are the actual values we pass to the function when calling it. These are mapped to the corresponding parameters in the function definition. Arguments can be passed in different ways: positional, keyword, or default value.\n",
        "\n",
        "\n",
        "\n",
        "     greet(\"Alice\", 25)  # \"Alice\" and 25 are arguments passed to the function\n",
        "\n",
        "\n",
        "  Function Parameters: Parameters are the names listed in the function definition. They act as placeholders for the actual values (arguments) that will be passed to the function when it is called. A function can have multiple parameters, which can be of different types (e.g., integers, strings, lists, etc.).\n",
        "     \n",
        "     \n",
        "     def greet(name, age):  # 'name' and 'age' are parameters\n",
        "     print(f\"Hello {name}, we are {age} years old.\")\n",
        "\n",
        "3. What are the different ways to define and call a function in Python?\n",
        "\n",
        "-   There are several ways to define and call functions, each with its specific syntax and use cases.\n",
        "\n",
        "  1.A simple function is defined using the def keyword, followed by the function name, parameters (if any), and a block of code.\n",
        "\n",
        "         def greet():\n",
        "         print(\"Hello, World!\")\n",
        "   After defining the function, we can call it by simply using its name followed by parentheses.\n",
        "         greet()  # Output: Hello, World!\n",
        "   2.We can define a function with parameters to accept inputs when the function is called.\n",
        "         def greet(name):\n",
        "         print(f\"Hello, {name}!\")\n",
        "   We pass the arguments to the parameters when calling the function.\n",
        "         greet(\"Alice\")  # Output: Hello, Alice!\n",
        "   3.A function can return a value using the return keyword. This allows the function to produce a result that can be used later.\n",
        "         def add(x, y):\n",
        "         return x + y\n",
        "  We can capture the return value in a variable and use it.\n",
        "        result = add(5, 3)\n",
        "        print(result)  # Output: 8\n",
        "\n",
        "  4.We can define default values for parameters. If no argument is passed for that parameter, the default value is used.\n",
        "         def greet(name=\"Guest\"):\n",
        "         print(f\"Hello, {name}!\")\n",
        "  We can call the function without passing an argument, and it will use the default value.\n",
        "  Alternatively, we can pass an argument to override the default value.\n",
        "\n",
        "         greet()         # Output: Hello, Guest!\n",
        "         greet(\"Bob\")    # Output: Hello, Bob!\n",
        "\n",
        "   5.Function with Variable-Length Arguments (*args and **kwargs):\n",
        "   * args allows us to pass a variable number of positional arguments.\n",
        "   * *kwargs allows us to pass a variable number of keyword arguments.\n",
        "\n",
        "        def greet(*names, **info):\n",
        "          for name in names:\n",
        "            print(f\"Hello, {name}!\")\n",
        "          for key, value in info.items():\n",
        "             print(f\"{key}: {value}\")\n",
        "  Calling the Function:\n",
        "       We can pass any number of positional arguments using *args.\n",
        "       We can pass any number of keyword arguments using **kwargs.\n",
        "             greet(\"Alice\", \"Bob\", name=\"Charlie\", age=25)\n",
        "\n",
        "  6.In Python, we can define small, anonymous functions using the lambda keyword. These functions are useful for short operations and are often used with functions like map(), filter(), and sorted().\n",
        "\n",
        "         multiply = lambda x, y: x * y\n",
        "         print(multiply(3, 4))  # Output: 12\n",
        "\n",
        "     7.Functions in Python are first-class citizens, meaning we can pass functions as arguments to other functions.\n",
        "\n",
        "        def apply_function(func, x, y):\n",
        "            return func(x, y)\n",
        "       def add(x, y):\n",
        "           return x + y\n",
        "       result = apply_function(add, 3, 4)\n",
        "       print(result)  # Output: 7\n",
        "  \n",
        "  8.A recursive function is a function that calls itself. It is often used to solve problems that can be broken down into smaller subproblems.\n",
        "           def factorial(n):\n",
        "               if n == 0:\n",
        "                  return 1\n",
        "               else:\n",
        "                  return n * factorial(n - 1)\n",
        "   Calling the Function:\n",
        "           print(factorial(5))  # Output: 120\n",
        "   9. Methods are functions defined within a class. They operate on instances  \n",
        "      of the class and have access to instance variables.  \n",
        "                class Greeter:\n",
        "                  def greet(self, name):\n",
        "                      print(f\"Hello, {name}!\")\n",
        "      To call a method, we need to create an instance of the class first.\n",
        "              g = Greeter()\n",
        "              g.greet(\"Alice\")  # Output: Hello, Alice!\n",
        "\n",
        "\n",
        "\n",
        "\n",
        " 4. What is the purpose of the `return` statement in a Python function?\n",
        " -  The return statement ends the function and sends a value back to the caller. The value returned can be anything: an integer, string, list, or even a complex object. If no value is specified, None is returned implicitly.\n",
        "   return can be used to terminate a function early if needed, based on some condition.\n",
        "            def add(x, y):\n",
        "                return x + y\n",
        "            result = add(3, 4)  # The return value 7 is assigned to 'result'\n",
        "            print(result)  # Output: 7\n",
        "\n",
        "5. What are iterators in Python and how do they differ from iterables?\n",
        "-   In Python, iterators and iterables are closely related concepts that are part of the language's protocol for looping through collections, but they have distinct roles.\n",
        "Iterable :\n",
        " An iterable is any object that can return an iterator, i.e., an object that can be looped over (e.g., with a for loop).\n",
        " To be an iterable, an object must implement the __iter__() method, which should return an iterator (another object that knows how to fetch the next element in the collection).\n",
        "           my_list = [1, 2, 3]\n",
        "           for item in my_list:  # `my_list` is an iterable\n",
        "              print(item)\n",
        "An iterator is an object that represents a stream of data. It allows us to iterate (loop) through the elements one by one.\n",
        "To be an iterator, an object must implement two methods:\n",
        "__iter__(): This method returns the iterator itself (which is usually the object itself).\n",
        "__next__(): This method returns the next item in the sequence and raises a StopIteration exception when there are no more items to return.\n",
        "           my_list = [1, 2, 3]\n",
        "           iterator = iter(my_list)  # Converts my_list into an iterator\n",
        "           print(next(iterator))  # Output: 1\n",
        "           print(next(iterator))  # Output: 2\n",
        "           print(next(iterator))  # Output: 3\n",
        "           print(next(iterator))  # Raises StopIteration error\n",
        "\n",
        "6. Explain the concept of generators in Python and how they are defined.\n",
        "\n",
        "-  In Python, generators are a special type of iterable that allow to create sequences of values lazily (i.e., one at a time), which can be more memory-efficient compared to using lists, especially for large datasets or infinite sequences. Generators are defined using either generator functions or generator expressions.\n",
        "\n",
        "A generator function is defined using the def keyword, just like a regular function, but it uses the yield keyword instead of return. Each time the function is called, it returns a generator object, which can be iterated over to retrieve values.\n",
        "\n",
        "             def count_up_to(max):\n",
        "              count = 1\n",
        "              while count <= max:\n",
        "                  yield count  # Yield the current value of count\n",
        "                  count += 1\n",
        "7. What are the advantages of using generators over regular functions?\n",
        "-  Using generators over regular functions offers several advantages, particularly when working with large datasets, complex computations, or infinite sequences. Here's a breakdown of the key benefits of using generators in Python:\n",
        "\n",
        "    - Memory Efficiency\n",
        "    -  Performance\n",
        "    -  Infinite Sequences\n",
        "    -  State Preservation\n",
        "    -  Simplified Code\n",
        "    -  Cleaner and Expressive Code\n",
        "    \n",
        "              Using a generator expression\n",
        "             gen = (x * x for x in range(10**6))  # Only stores one value at a time\n",
        "\n",
        "\n",
        "8. What is a lambda function in Python and when is it typically used?\n",
        "-  A lambda function in Python is a small, anonymous function that is defined using the lambda keyword rather than the usual def keyword. Lambda functions are often used when a short, throwaway function is needed for a brief period of time and don’t need to be reused.\n",
        "         #    A simple lambda function that adds two numbers\n",
        "              add = lambda x, y: x + y\n",
        "              print(add(3, 4))  # Output: 7\n",
        "\n",
        "          \n",
        "9. Explain the purpose and usage of the `map()` function in Python.\n",
        "-  The map() function in Python is a built-in function used to apply a given function to all items in an iterable (such as a list, tuple, or string) and return an iterator that yields the results of applying that function. It is a useful tool for transforming or processing each item of a collection without needing to explicitly write a loop.\n",
        "\n",
        "   Common Use Cases:\n",
        "\n",
        "   Transforming a List: We can apply a function to each item in a list, such as squaring each number, converting strings to uppercase, etc.\n",
        "\n",
        "   Combining Multiple Lists: We can combine two or more iterables, such as summing the corresponding elements from two lists.\n",
        "\n",
        "   Data Processing: We can apply data transformation or filtering operations in a more functional style.\n",
        "                words = [\"hello\", \"world\", \"python\"]\n",
        "                uppercase_words = map(str.upper, words)\n",
        "\n",
        "                print(list(uppercase_words))  # Output: ['HELLO', 'WORLD', 'PYTHON']\n",
        "10. What is the difference between `map()`, `reduce()`, and `filter()` functions in Python?\n",
        "-  In Python, the functions map(), reduce(), and filter() are all used for functional programming tasks and are often used to process iterables (like lists or tuples) in a concise way. However, they differ in terms of their purpose and how they process the input data.\n",
        "\n",
        "The map() function applies a given function to each item in an iterable (or iterables) and returns an iterator (which produces the results lazily).\n",
        "\n",
        "            numbers = [1, 2, 3, 4, 5]\n",
        "            squared_numbers = map(lambda x: x**2, numbers)\n",
        "            print(list(squared_numbers))  # Output: [1, 4, 9, 16, 25]\n",
        "          \n",
        "The filter() function filters the elements of an iterable based on a function that returns a boolean value. It keeps only the elements for which the function returns True.\n",
        "\n",
        "            numbers = [1, 2, 3, 4, 5]\n",
        "            even_numbers = filter(lambda x: x % 2 == 0, numbers)\n",
        "            print(list(even_numbers))  # Output: [2, 4]\n",
        "\n",
        "The reduce() function is used to accumulate a result by applying a binary function (a function that takes two arguments) to the elements of an iterable. It reduces the iterable to a single value.\n",
        "\n",
        "            from functools import reduce\n",
        "            numbers = [1, 2, 3, 4]\n",
        "            product = reduce(lambda x, y: x * y, numbers)\n",
        "            print(product)  # Output: 24 (1 * 2 * 3 * 4)\n",
        "\n",
        "\n",
        "\n",
        "\n"
      ],
      "metadata": {
        "id": "QFlIXmM6Jo-E"
      }
    },
    {
      "cell_type": "code",
      "source": [
        "#  1. Write a Python function that takes a list of numbers as input and returns the sum of all even numbers in the list.\n",
        "\n",
        "def sum_even_numbers(numbers):\n",
        "    # Using a list comprehension to filter out even numbers and sum them\n",
        "    return sum(num for num in numbers if num % 2 == 0)\n",
        "\n",
        "numbers = [1, 2, 3, 4, 5, 6, 7, 8, 9, 10]\n",
        "result = sum_even_numbers(numbers)\n",
        "print(result)  # Output: 30 (2 + 4 + 6 + 8 + 10)\n",
        "\n",
        "\n"
      ],
      "metadata": {
        "colab": {
          "base_uri": "https://localhost:8080/"
        },
        "id": "aWqWypzwXsC8",
        "outputId": "92f3317c-7921-4fa9-a39d-a18c30248d9c"
      },
      "execution_count": 8,
      "outputs": [
        {
          "output_type": "stream",
          "name": "stdout",
          "text": [
            "30\n"
          ]
        }
      ]
    },
    {
      "cell_type": "code",
      "source": [
        " # 2. Create a Python function that accepts a string and returns the reverse of that string.\n",
        "\n",
        " def reverse_string(s):\n",
        "    # Return the reversed string using slicing\n",
        "   return s[::-1]\n",
        "\n",
        " input_string = \"hello\"\n",
        " reversed_string = reverse_string(input_string)\n",
        " print(reversed_string)  # Output: \"olleh\"\n"
      ],
      "metadata": {
        "colab": {
          "base_uri": "https://localhost:8080/"
        },
        "id": "xTCA_fTrYos6",
        "outputId": "af57cd76-35e2-4734-f53d-9870ac970160"
      },
      "execution_count": 6,
      "outputs": [
        {
          "output_type": "stream",
          "name": "stdout",
          "text": [
            "olleh\n"
          ]
        }
      ]
    },
    {
      "cell_type": "code",
      "source": [
        "# 3.Implement a Python function that takes a list of integers and returns a new list containing the squares of each number.\n",
        "\n",
        "def square_numbers(numbers):\n",
        "    # Using list comprehension to square each number in the list\n",
        "    return [num ** 2 for num in numbers]\n",
        "numbers = [1, 2, 3, 4, 5]\n",
        "squared_numbers = square_numbers(numbers)\n",
        "print(squared_numbers)  # Output: [1, 4, 9, 16, 25]\n"
      ],
      "metadata": {
        "colab": {
          "base_uri": "https://localhost:8080/"
        },
        "id": "6H8zFHURaSD-",
        "outputId": "6d46436b-b04f-499f-88e7-572a9c951f0a"
      },
      "execution_count": 9,
      "outputs": [
        {
          "output_type": "stream",
          "name": "stdout",
          "text": [
            "[1, 4, 9, 16, 25]\n"
          ]
        }
      ]
    },
    {
      "cell_type": "code",
      "source": [
        " # 4. Write a Python function that checks if a given number is prime or not from 1 to 200.\n",
        "\n",
        " def is_prime(n):\n",
        "    # Check if the number is less than 2\n",
        "    if n <= 1:\n",
        "        return False\n",
        "    # Check for factors from 2 to the square root of n\n",
        "    for i in range(2, int(n**0.5) + 1):\n",
        "        if n % i == 0:\n",
        "            return False\n",
        "    return True\n",
        " for num in range(1, 201):\n",
        "    if is_prime(num):\n",
        "        print(num, \"is prime\")\n"
      ],
      "metadata": {
        "colab": {
          "base_uri": "https://localhost:8080/"
        },
        "id": "jHu1GM-uJoKO",
        "outputId": "ecd9ac19-2e7f-4022-b38a-014f5ad4bd0f"
      },
      "execution_count": 10,
      "outputs": [
        {
          "output_type": "stream",
          "name": "stdout",
          "text": [
            "2 is prime\n",
            "3 is prime\n",
            "5 is prime\n",
            "7 is prime\n",
            "11 is prime\n",
            "13 is prime\n",
            "17 is prime\n",
            "19 is prime\n",
            "23 is prime\n",
            "29 is prime\n",
            "31 is prime\n",
            "37 is prime\n",
            "41 is prime\n",
            "43 is prime\n",
            "47 is prime\n",
            "53 is prime\n",
            "59 is prime\n",
            "61 is prime\n",
            "67 is prime\n",
            "71 is prime\n",
            "73 is prime\n",
            "79 is prime\n",
            "83 is prime\n",
            "89 is prime\n",
            "97 is prime\n",
            "101 is prime\n",
            "103 is prime\n",
            "107 is prime\n",
            "109 is prime\n",
            "113 is prime\n",
            "127 is prime\n",
            "131 is prime\n",
            "137 is prime\n",
            "139 is prime\n",
            "149 is prime\n",
            "151 is prime\n",
            "157 is prime\n",
            "163 is prime\n",
            "167 is prime\n",
            "173 is prime\n",
            "179 is prime\n",
            "181 is prime\n",
            "191 is prime\n",
            "193 is prime\n",
            "197 is prime\n",
            "199 is prime\n"
          ]
        }
      ]
    },
    {
      "cell_type": "code",
      "source": [
        "# 5. Create an iterator class in Python that generates the Fibonacci sequence up to a specified number of terms.\n",
        "\n",
        "class FibonacciIterator:\n",
        "    def __init__(self, n):\n",
        "        # Initialize the number of terms to generate in the Fibonacci sequence\n",
        "        self.n = n\n",
        "        self.current = 0\n",
        "        self.next = 1\n",
        "        self.count = 0\n",
        "\n",
        "    def __iter__(self):\n",
        "        # The iterator object itself is returned\n",
        "        return self\n",
        "\n",
        "    def __next__(self):\n",
        "        # If the count reaches the number of terms (n), stop iteration\n",
        "        if self.count >= self.n:\n",
        "            raise StopIteration\n",
        "\n",
        "        # Return the current Fibonacci number\n",
        "        fib_number = self.current\n",
        "\n",
        "        # Update to the next Fibonacci number\n",
        "        self.current, self.next = self.next, self.current + self.next\n",
        "\n",
        "        # Increment the count of generated terms\n",
        "        self.count += 1\n",
        "\n",
        "        return fib_number\n",
        "\n",
        "# Create an iterator that generates the first 10 Fibonacci numbers\n",
        "fib_iter = FibonacciIterator(10)\n",
        "\n",
        "# Iterate through the Fibonacci numbers\n",
        "for num in fib_iter:\n",
        "    print(num)\n"
      ],
      "metadata": {
        "colab": {
          "base_uri": "https://localhost:8080/"
        },
        "id": "LQ9NlKDhc4WR",
        "outputId": "d15ffd42-0f9a-48d4-8262-deb5831edfb9"
      },
      "execution_count": 11,
      "outputs": [
        {
          "output_type": "stream",
          "name": "stdout",
          "text": [
            "0\n",
            "1\n",
            "1\n",
            "2\n",
            "3\n",
            "5\n",
            "8\n",
            "13\n",
            "21\n",
            "34\n"
          ]
        }
      ]
    },
    {
      "cell_type": "code",
      "source": [
        "#  6. Write a generator function in Python that yields the powers of 2 up to a given exponent.\n",
        "def powers_of_2(exponent):\n",
        "    for i in range(exponent + 1):\n",
        "        yield 2 ** i\n",
        "\n",
        "# Generate powers of 2 up to 2^5 (i.e., up to exponent 5)\n",
        "for power in powers_of_2(5):\n",
        "    print(power)\n",
        "\n"
      ],
      "metadata": {
        "colab": {
          "base_uri": "https://localhost:8080/"
        },
        "id": "TkTcCdG9dRsQ",
        "outputId": "bf6461fb-539c-4259-da33-dd9c50a4749b"
      },
      "execution_count": 12,
      "outputs": [
        {
          "output_type": "stream",
          "name": "stdout",
          "text": [
            "1\n",
            "2\n",
            "4\n",
            "8\n",
            "16\n",
            "32\n"
          ]
        }
      ]
    },
    {
      "cell_type": "code",
      "source": [
        "#  7. Implement a generator function that reads a file line by line and yields each line as a string.\n",
        "\n",
        "def read_file_lines(file_path):\n",
        "    with open(file_path, 'r') as file:\n",
        "        # Read and yield each line from the file\n",
        "        for line in file:\n",
        "            yield line.strip()  # strip() to remove any trailing newline characters\n",
        "\n",
        "# Assuming there's a file named 'example.txt' with some content\n",
        "for line in read_file_lines('example.txt'):\n",
        "    print(line)\n"
      ],
      "metadata": {
        "colab": {
          "base_uri": "https://localhost:8080/",
          "height": 327
        },
        "id": "XmfwA4-idkK7",
        "outputId": "2d234d88-afcc-45de-c5a9-3c5a826aa48a"
      },
      "execution_count": 14,
      "outputs": [
        {
          "output_type": "error",
          "ename": "FileNotFoundError",
          "evalue": "[Errno 2] No such file or directory: 'example.txt'",
          "traceback": [
            "\u001b[0;31m---------------------------------------------------------------------------\u001b[0m",
            "\u001b[0;31mFileNotFoundError\u001b[0m                         Traceback (most recent call last)",
            "\u001b[0;32m<ipython-input-14-b69a670af181>\u001b[0m in \u001b[0;36m<cell line: 0>\u001b[0;34m()\u001b[0m\n\u001b[1;32m      8\u001b[0m \u001b[0;34m\u001b[0m\u001b[0m\n\u001b[1;32m      9\u001b[0m \u001b[0;31m# Assuming there's a file named 'example.txt' with some content\u001b[0m\u001b[0;34m\u001b[0m\u001b[0;34m\u001b[0m\u001b[0m\n\u001b[0;32m---> 10\u001b[0;31m \u001b[0;32mfor\u001b[0m \u001b[0mline\u001b[0m \u001b[0;32min\u001b[0m \u001b[0mread_file_lines\u001b[0m\u001b[0;34m(\u001b[0m\u001b[0;34m'example.txt'\u001b[0m\u001b[0;34m)\u001b[0m\u001b[0;34m:\u001b[0m\u001b[0;34m\u001b[0m\u001b[0;34m\u001b[0m\u001b[0m\n\u001b[0m\u001b[1;32m     11\u001b[0m     \u001b[0mprint\u001b[0m\u001b[0;34m(\u001b[0m\u001b[0mline\u001b[0m\u001b[0;34m)\u001b[0m\u001b[0;34m\u001b[0m\u001b[0;34m\u001b[0m\u001b[0m\n",
            "\u001b[0;32m<ipython-input-14-b69a670af181>\u001b[0m in \u001b[0;36mread_file_lines\u001b[0;34m(file_path)\u001b[0m\n\u001b[1;32m      2\u001b[0m \u001b[0;34m\u001b[0m\u001b[0m\n\u001b[1;32m      3\u001b[0m \u001b[0;32mdef\u001b[0m \u001b[0mread_file_lines\u001b[0m\u001b[0;34m(\u001b[0m\u001b[0mfile_path\u001b[0m\u001b[0;34m)\u001b[0m\u001b[0;34m:\u001b[0m\u001b[0;34m\u001b[0m\u001b[0;34m\u001b[0m\u001b[0m\n\u001b[0;32m----> 4\u001b[0;31m     \u001b[0;32mwith\u001b[0m \u001b[0mopen\u001b[0m\u001b[0;34m(\u001b[0m\u001b[0mfile_path\u001b[0m\u001b[0;34m,\u001b[0m \u001b[0;34m'r'\u001b[0m\u001b[0;34m)\u001b[0m \u001b[0;32mas\u001b[0m \u001b[0mfile\u001b[0m\u001b[0;34m:\u001b[0m\u001b[0;34m\u001b[0m\u001b[0;34m\u001b[0m\u001b[0m\n\u001b[0m\u001b[1;32m      5\u001b[0m         \u001b[0;31m# Read and yield each line from the file\u001b[0m\u001b[0;34m\u001b[0m\u001b[0;34m\u001b[0m\u001b[0m\n\u001b[1;32m      6\u001b[0m         \u001b[0;32mfor\u001b[0m \u001b[0mline\u001b[0m \u001b[0;32min\u001b[0m \u001b[0mfile\u001b[0m\u001b[0;34m:\u001b[0m\u001b[0;34m\u001b[0m\u001b[0;34m\u001b[0m\u001b[0m\n",
            "\u001b[0;31mFileNotFoundError\u001b[0m: [Errno 2] No such file or directory: 'example.txt'"
          ]
        }
      ]
    },
    {
      "cell_type": "code",
      "source": [
        " # 8. Use a lambda function in Python to sort a list of tuples based on the second element of each tuple.\n",
        " # List of tuples\n",
        "tuples_list = [(1, 3), (2, 1), (4, 2), (3, 5)]\n",
        "\n",
        "# Sort the list of tuples based on the second element of each tuple\n",
        "sorted_list = sorted(tuples_list, key=lambda x: x[1])\n",
        "\n",
        "# Print the sorted list\n",
        "print(sorted_list)\n"
      ],
      "metadata": {
        "colab": {
          "base_uri": "https://localhost:8080/"
        },
        "id": "DN6Xn0VUeKHC",
        "outputId": "644279a3-618f-4a47-b627-052c157059f5"
      },
      "execution_count": 15,
      "outputs": [
        {
          "output_type": "stream",
          "name": "stdout",
          "text": [
            "[(2, 1), (4, 2), (1, 3), (3, 5)]\n"
          ]
        }
      ]
    },
    {
      "cell_type": "code",
      "source": [
        "#  9. Write a Python program that uses `map()` to convert a list of temperatures from Celsius to Fahrenheit.\n",
        "# List of temperatures in Celsius\n",
        "celsius_temperatures = [0, 20, 30, 40, 100]\n",
        "\n",
        "# Function to convert Celsius to Fahrenheit\n",
        "def celsius_to_fahrenheit(celsius):\n",
        "    return (celsius * 9/5) + 32\n",
        "\n",
        "# Use map() to convert each temperature in the list to Fahrenheit\n",
        "fahrenheit_temperatures = list(map(celsius_to_fahrenheit, celsius_temperatures))\n",
        "\n",
        "# Print the Fahrenheit temperatures\n",
        "print(fahrenheit_temperatures)\n"
      ],
      "metadata": {
        "colab": {
          "base_uri": "https://localhost:8080/"
        },
        "id": "5AywUm9oeksX",
        "outputId": "4bafc250-f6f2-4724-936c-fa0df9ea22c1"
      },
      "execution_count": 16,
      "outputs": [
        {
          "output_type": "stream",
          "name": "stdout",
          "text": [
            "[32.0, 68.0, 86.0, 104.0, 212.0]\n"
          ]
        }
      ]
    },
    {
      "cell_type": "code",
      "source": [
        "# 10. Create a Python program that uses `filter()` to remove all the vowels from a given string.\n",
        "# Function to check if a character is not a vowel\n",
        "def is_not_vowel(char):\n",
        "    return char.lower() not in 'aeiou'\n",
        "\n",
        "# Given string\n",
        "input_string = \"Hello, World!\"\n",
        "\n",
        "# Use filter() to remove vowels from the string\n",
        "filtered_string = ''.join(filter(is_not_vowel, input_string))\n",
        "\n",
        "# Print the result\n",
        "print(filtered_string)\n"
      ],
      "metadata": {
        "colab": {
          "base_uri": "https://localhost:8080/"
        },
        "id": "IG7a-bdQexhe",
        "outputId": "9f757483-499e-41a4-cb7d-4f30ebf7021e"
      },
      "execution_count": 17,
      "outputs": [
        {
          "output_type": "stream",
          "name": "stdout",
          "text": [
            "Hll, Wrld!\n"
          ]
        }
      ]
    },
    {
      "cell_type": "code",
      "execution_count": 4,
      "metadata": {
        "id": "rDm2BWUgPB7K"
      },
      "outputs": [],
      "source": [
        "\"\"\"11.  Imagine an accounting routine used in a book shop. It works on a list with sublists, which look like this:\n",
        " Write a Python program, which returns a list with 2-tuples. Each tuple consists of the order number and the\n",
        "product of the price per item and the quantity. The product should be increased by 10,- € if the value of the\n",
        "order is smaller than 100,00 €.\n",
        " Write a Python program using lambda and map.\n",
        " \"\"\"\n",
        "\n",
        "from functools import reduce\n",
        "\n",
        "orders = [ [1, (\"5464\", 4, 9.99), (\"8274\",18,12.99), (\"9744\", 9, 44.95)],[2, (\"5464\", 9, 9.99), (\"9744\", 9, 44.95)],[3, (\"5464\", 9, 9.99), (\"88112\", 11, 24.99)],[4, (\"8732\", 7, 11.99), (\"7733\",11,18.99), (\"88112\", 5, 39.95)] ]\n",
        "\n",
        "invoice = list(map(lambda k: k if k[1]>=100 else (k[0],k[1]+10),map(lambda x:(x[0],reduce(lambda a,b:a+b,list(map(lambda y:y[1]*y[2] ,x[1:])))),orders)))\n",
        "\n",
        "\n"
      ]
    }
  ]
}